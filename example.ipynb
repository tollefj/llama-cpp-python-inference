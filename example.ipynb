{
 "cells": [
  {
   "cell_type": "code",
   "execution_count": 1,
   "metadata": {},
   "outputs": [],
   "source": [
    "%load_ext autoreload\n",
    "%autoreload 2"
   ]
  },
  {
   "cell_type": "code",
   "execution_count": 2,
   "metadata": {},
   "outputs": [],
   "source": [
    "# wikipedia on CNNs:\n",
    "text = \"\"\"\n",
    "Convolutional neural network (CNN) is a regularized type of feed-forward neural network that learns feature engineering by itself via filters (or kernel) optimization. Vanishing gradients and exploding gradients, seen during backpropagation in earlier neural networks, are prevented by using regularized weights over fewer connections.[1][2] For example, for each neuron in the fully-connected layer, 10,000 weights would be required for processing an image sized 100 × 100 pixels. However, applying cascaded convolution (or cross-correlation) kernels,[3][4] only 25 neurons are required to process 5x5-sized tiles.[5][6] Higher-layer features are extracted from wider context windows, compared to lower-layer features.\n",
    "\n",
    "They have applications in:\n",
    "\n",
    "image and video recognition,[7]\n",
    "recommender systems,[8]\n",
    "image classification,\n",
    "image segmentation,\n",
    "medical image analysis,\n",
    "natural language processing,[9]\n",
    "brain–computer interfaces,[10] and\n",
    "financial time series.[11]\n",
    "CNNs are also known as shift invariant or space invariant artificial neural networks (SIANN), based on the shared-weight architecture of the convolution kernels or filters that slide along input features and provide translation-equivariant responses known as feature maps.[12][13] Counter-intuitively, most convolutional neural networks are not invariant to translation, due to the downsampling operation they apply to the input.[14]\n",
    "\n",
    "Feed-forward neural networks are usually fully connected networks, that is, each neuron in one layer is connected to all neurons in the next layer. The \"full connectivity\" of these networks makes them prone to overfitting data. Typical ways of regularization, or preventing overfitting, include: penalizing parameters during training (such as weight decay) or trimming connectivity (skipped connections, dropout, etc.) Robust datasets also increase the probability that CNNs will learn the generalized principles that characterize a given dataset rather than the biases of a poorly-populated set.[15]\n",
    "\n",
    "Convolutional networks were inspired by biological processes[16][17][18][19] in that the connectivity pattern between neurons resembles the organization of the animal visual cortex. Individual cortical neurons respond to stimuli only in a restricted region of the visual field known as the receptive field. The receptive fields of different neurons partially overlap such that they cover the entire visual field.\n",
    "\n",
    "CNNs use relatively little pre-processing compared to other image classification algorithms. This means that the network learns to optimize the filters (or kernels) through automated learning, whereas in traditional algorithms these filters are hand-engineered. This independence from prior knowledge and human intervention in feature extraction is a major advantage.[to whom?]\n",
    "\"\"\""
   ]
  },
  {
   "cell_type": "code",
   "execution_count": 6,
   "metadata": {},
   "outputs": [
    {
     "name": "stderr",
     "output_type": "stream",
     "text": [
      "Special tokens have been added in the vocabulary, make sure the associated word embeddings are fine-tuned or trained.\n"
     ]
    },
    {
     "data": {
      "text/plain": [
       "[{'question': 'What is the role of convolutional neural networks (CNNs) in brain-computer interfaces (BCIs)?',\n",
       "  'answer': 'CNNs are used for feature extraction and pattern recognition in BCIs, enabling the detection of specific brain signals and mapping them to control devices or perform tasks.'},\n",
       " {'question': 'How do CNNs help overcome challenges in BCI development?',\n",
       "  'answer': \"CNNs' ability to automatically learn filters (or kernels) through automated learning helps overcome challenges such as identifying relevant features from complex neural data, reducing the need for manual feature engineering and improving accuracy in signal classification.\"},\n",
       " {'question': 'What are some potential applications of CNNs in BCIs?',\n",
       "  'answer': 'CNNs can be used for various BCI applications like decoding motor imagery, emotion recognition, and even cognitive state monitoring, enabling users to control devices or interact with the environment using their brain signals.'}]"
      ]
     },
     "execution_count": 6,
     "metadata": {},
     "output_type": "execute_result"
    }
   ],
   "source": [
    "# from llm_config import prompt_configs \n",
    "# config = prompt_configs[\"question_and_reason\"]\n",
    "from llm import LLM\n",
    "from transformers import AutoTokenizer\n",
    "import os\n",
    "\n",
    "tokenizer = AutoTokenizer.from_pretrained(os.getenv(\"LLM_TOKENIZER_OUTPUT\"))\n",
    "\n",
    "llm = LLM(tokenizer)\n",
    "\n",
    "# text = ...  # e.g., wikipedia on CNNs\n",
    "query = \"how are CNNs used for BCIs?\"\n",
    "# do not use f-strings. config is formatted pre-instruction\n",
    "config = {\n",
    "    \"prompt\": \"You are given a document:\\n{text}\\nBased on its content, create three questions related to the following query: '{query}'. Answer in JSON according to the schema, where each question should receive a concise answer\",\n",
    "    \"schema\": {\n",
    "        \"questions\": {\n",
    "            \"type\": \"array\",\n",
    "            \"properties\": {\n",
    "                \"question\": {\"type\": \"string\"},\n",
    "                \"answer\": {\"type\": \"string\"},\n",
    "            },\n",
    "        },\n",
    "    }\n",
    "}\n",
    "\n",
    "NEW_TOKENS = 1000\n",
    "res = llm.generate(\n",
    "    query=query,\n",
    "    text=text,\n",
    "    temp=0.3,\n",
    "    tokens=NEW_TOKENS,\n",
    "    config=config,\n",
    "    schema_type=\"object\",  # array/object/number etc\n",
    ")\n",
    "res[\"questions\"]"
   ]
  }
 ],
 "metadata": {
  "kernelspec": {
   "display_name": "Python 3",
   "language": "python",
   "name": "python3"
  },
  "language_info": {
   "codemirror_mode": {
    "name": "ipython",
    "version": 3
   },
   "file_extension": ".py",
   "mimetype": "text/x-python",
   "name": "python",
   "nbconvert_exporter": "python",
   "pygments_lexer": "ipython3",
   "version": "3.10.12"
  }
 },
 "nbformat": 4,
 "nbformat_minor": 2
}
