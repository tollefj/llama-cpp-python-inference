{
 "cells": [
  {
   "cell_type": "code",
   "execution_count": null,
   "metadata": {},
   "outputs": [],
   "source": [
    "from llm_config import prompt_configs\n",
    "\n",
    "prompt_key = \"question_and_reason\"\n",
    "config = prompt_configs[prompt_key]\n",
    "prompt = config[\"prompt\"]\n",
    "schema = config[\"schema\"]\n",
    "\n",
    "print(prompt)\n",
    "print()\n",
    "print(schema)"
   ]
  },
  {
   "cell_type": "code",
   "execution_count": null,
   "metadata": {},
   "outputs": [],
   "source": [
    "from llm import generate\n",
    "\n",
    "query = \"this is a question about something related to the documents the LLM will receive\"\n",
    "\n",
    "data = [\n",
    "    \"doc 1: this is the first document\",\n",
    "    \"doc 2: this is the second document\",\n",
    "    \"doc 3: this is the third document\",\n",
    "    \"doc 4: this is the fourth document\",\n",
    "]\n",
    "data = \"\\n\".join(data)\n",
    "print(data)\n",
    "\n",
    "generate(\n",
    "    query=query,\n",
    "    text=data,\n",
    "    prompt=prompt,\n",
    "    schema=schema,\n",
    "    schema_type=\"object\",\n",
    "    temp=0.1,\n",
    "    tokens=200,  # new tokens\n",
    "    verbose=True,\n",
    "    verbose_prompt=True,\n",
    ")"
   ]
  }
 ],
 "metadata": {
  "kernelspec": {
   "display_name": "Python 3",
   "language": "python",
   "name": "python3"
  },
  "language_info": {
   "codemirror_mode": {
    "name": "ipython",
    "version": 3
   },
   "file_extension": ".py",
   "mimetype": "text/x-python",
   "name": "python",
   "nbconvert_exporter": "python",
   "pygments_lexer": "ipython3",
   "version": "3.11.8"
  }
 },
 "nbformat": 4,
 "nbformat_minor": 2
}
